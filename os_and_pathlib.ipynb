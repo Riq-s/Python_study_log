{
 "cells": [
  {
   "cell_type": "code",
   "execution_count": 1,
   "id": "216d9811-44e2-4ccf-9e2c-806194c3e970",
   "metadata": {},
   "outputs": [],
   "source": [
    "import os\n",
    "from pathlib import Path"
   ]
  },
  {
   "cell_type": "code",
   "execution_count": 19,
   "id": "df3ba1b2-4bae-45f6-8e9a-d87f5c085101",
   "metadata": {},
   "outputs": [],
   "source": [
    "p = Path('archive/gaussian_filtered_images/gaussian_filtered_images')"
   ]
  },
  {
   "cell_type": "code",
   "execution_count": 20,
   "id": "42c48dd4-b4af-46b0-8c0b-d96a261c2a3e",
   "metadata": {},
   "outputs": [
    {
     "data": {
      "text/plain": [
       "PosixPath('archive/gaussian_filtered_images/gaussian_filtered_images')"
      ]
     },
     "execution_count": 20,
     "metadata": {},
     "output_type": "execute_result"
    }
   ],
   "source": [
    "p"
   ]
  },
  {
   "cell_type": "code",
   "execution_count": 21,
   "id": "e1bafa67-4dae-4586-85cf-2c173c0168aa",
   "metadata": {},
   "outputs": [
    {
     "data": {
      "text/plain": [
       "[PosixPath('archive/gaussian_filtered_images/gaussian_filtered_images/export.pkl'),\n",
       " PosixPath('archive/gaussian_filtered_images/gaussian_filtered_images/Mild'),\n",
       " PosixPath('archive/gaussian_filtered_images/gaussian_filtered_images/Moderate'),\n",
       " PosixPath('archive/gaussian_filtered_images/gaussian_filtered_images/Proliferate_DR'),\n",
       " PosixPath('archive/gaussian_filtered_images/gaussian_filtered_images/Severe'),\n",
       " PosixPath('archive/gaussian_filtered_images/gaussian_filtered_images/No_DR')]"
      ]
     },
     "execution_count": 21,
     "metadata": {},
     "output_type": "execute_result"
    }
   ],
   "source": [
    "list(p.iterdir())"
   ]
  },
  {
   "cell_type": "code",
   "execution_count": 22,
   "id": "8a3903c6-6207-40f3-b3be-36ee479364b2",
   "metadata": {},
   "outputs": [
    {
     "data": {
      "text/plain": [
       "'archive/gaussian_filtered_images/gaussian_filtered_images/Mild/d85588ff2ebd.png'"
      ]
     },
     "execution_count": 22,
     "metadata": {},
     "output_type": "execute_result"
    }
   ],
   "source": [
    "list(p.glob('*/*.png'))[10].as_posix()"
   ]
  },
  {
   "cell_type": "code",
   "execution_count": 25,
   "id": "0a699273-6c19-4d34-a225-6e2d8551fcff",
   "metadata": {},
   "outputs": [
    {
     "name": "stdout",
     "output_type": "stream",
     "text": [
      "archive/gaussian_filtered_images/gaussian_filtered_images/Proliferate_DR\n",
      "<class 'pathlib.PosixPath'>\n"
     ]
    }
   ],
   "source": [
    "folder = list(p.iterdir())[3]\n",
    "print(folder)\n",
    "print(type(folder))"
   ]
  },
  {
   "cell_type": "code",
   "execution_count": 26,
   "id": "72549f64-2f76-4afe-ba84-32547d02494a",
   "metadata": {},
   "outputs": [
    {
     "name": "stdout",
     "output_type": "stream",
     "text": [
      "('archive/gaussian_filtered_images/gaussian_filtered_images', 'Proliferate_DR')\n",
      "archive/gaussian_filtered_images/gaussian_filtered_images/Proliferate_DR/test.txt\n"
     ]
    }
   ],
   "source": [
    "split_list = os.path.split(folder)\n",
    "print(split_list)\n",
    "file_path = os.path.join(folder, 'test.txt')\n",
    "print(file_path)"
   ]
  },
  {
   "cell_type": "code",
   "execution_count": 27,
   "id": "ee7f0fe9-e35d-491b-9784-f706168c45d5",
   "metadata": {},
   "outputs": [
    {
     "name": "stdout",
     "output_type": "stream",
     "text": [
      "archive/gaussian_filtered_images/gaussian_filtered_images/newfolder_test\n"
     ]
    }
   ],
   "source": [
    "p = Path('archive/gaussian_filtered_images/gaussian_filtered_images')\n",
    "new_folder_name = 'newfolder_test'\n",
    "new_folder_path = os.path.join(p,new_folder_name)\n",
    "print(new_folder_path)"
   ]
  },
  {
   "cell_type": "code",
   "execution_count": 29,
   "id": "d85520ee-8d00-4838-8aa5-c738903a1253",
   "metadata": {},
   "outputs": [
    {
     "data": {
      "text/plain": [
       "False"
      ]
     },
     "execution_count": 29,
     "metadata": {},
     "output_type": "execute_result"
    }
   ],
   "source": [
    "os.path.exists(new_folder_path)"
   ]
  },
  {
   "cell_type": "code",
   "execution_count": 30,
   "id": "5a347fd5-4f44-432c-b84f-4e081ff85d81",
   "metadata": {},
   "outputs": [],
   "source": [
    "if not os.path.exists(new_folder_path):\n",
    "    os.makedirs(new_folder_path)"
   ]
  },
  {
   "cell_type": "code",
   "execution_count": 31,
   "id": "6e1c9e0b-cce4-4628-bb80-8ec88c8bbe13",
   "metadata": {},
   "outputs": [
    {
     "data": {
      "text/plain": [
       "True"
      ]
     },
     "execution_count": 31,
     "metadata": {},
     "output_type": "execute_result"
    }
   ],
   "source": [
    "os.path.exists(new_folder_path)"
   ]
  },
  {
   "cell_type": "code",
   "execution_count": null,
   "id": "82cf29a0-61a8-4cd7-bc56-550dd73cbb28",
   "metadata": {},
   "outputs": [],
   "source": []
  }
 ],
 "metadata": {
  "kernelspec": {
   "display_name": "Python 3 (ipykernel)",
   "language": "python",
   "name": "python3"
  },
  "language_info": {
   "codemirror_mode": {
    "name": "ipython",
    "version": 3
   },
   "file_extension": ".py",
   "mimetype": "text/x-python",
   "name": "python",
   "nbconvert_exporter": "python",
   "pygments_lexer": "ipython3",
   "version": "3.9.7"
  }
 },
 "nbformat": 4,
 "nbformat_minor": 5
}
