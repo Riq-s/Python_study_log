{
 "cells": [
  {
   "cell_type": "code",
   "execution_count": 1,
   "id": "2af5a824-8a82-4904-b4c1-2bd6b8596007",
   "metadata": {},
   "outputs": [],
   "source": [
    "from multiprocessing import Pool"
   ]
  },
  {
   "cell_type": "code",
   "execution_count": 2,
   "id": "4fd34016-395c-4a84-b25d-aed80a76c59f",
   "metadata": {},
   "outputs": [
    {
     "data": {
      "text/plain": [
       "4"
      ]
     },
     "execution_count": 2,
     "metadata": {},
     "output_type": "execute_result"
    }
   ],
   "source": [
    "from multiprocessing import cpu_count\n",
    "cpu_count()"
   ]
  },
  {
   "cell_type": "code",
   "execution_count": 3,
   "id": "23a38cc9-6f78-478a-9f6d-def65e321afe",
   "metadata": {},
   "outputs": [],
   "source": [
    "p = Pool(processes=cpu_count()-1)"
   ]
  },
  {
   "cell_type": "code",
   "execution_count": 4,
   "id": "e1df57ac-a805-4edf-9929-faf614b9d15d",
   "metadata": {},
   "outputs": [
    {
     "data": {
      "text/plain": [
       "[2, 4, 6, 8]"
      ]
     },
     "execution_count": 4,
     "metadata": {},
     "output_type": "execute_result"
    }
   ],
   "source": [
    "def double(n):\n",
    "    return 2 * n\n",
    "params = [1, 2, 3, 4]\n",
    " \n",
    "results = map(double, params)\n",
    "#resultsはイテレータなのでlist()に入れて中身を表示\n",
    "list(results)"
   ]
  },
  {
   "cell_type": "code",
   "execution_count": 6,
   "id": "70d78caa-f47f-4d87-85a7-56a156817659",
   "metadata": {},
   "outputs": [
    {
     "name": "stderr",
     "output_type": "stream",
     "text": [
      "100%|██████████| 3662/3662 [00:22<00:00, 162.39it/s]\n"
     ]
    }
   ],
   "source": [
    "import cv2\n",
    "import numpy as np\n",
    "from tqdm import tqdm\n",
    "from glob import glob\n",
    "\n",
    "# NumPy Arrayをsaveするフォルダ\n",
    "save_base_path = 'save_time_test1/'\n",
    "for p in tqdm(glob('archive/gaussian_filtered_images/gaussian_filtered_images/*/*.png')):\n",
    "    \n",
    "    #pngデータをopencvでロード\n",
    "    im = cv2.imread(p)\n",
    "    #pngのファイル名をそのまま.npyファイルのファイル名にする\n",
    "    file_name = p.split('/')[-1].split('.png')[0]\n",
    "    save_path = save_base_path + file_name\n",
    "    #全てのnpyファイルを同じフォルダに格納\n",
    "    np.save(save_path, im)"
   ]
  },
  {
   "cell_type": "code",
   "execution_count": 13,
   "id": "8825667a-566e-458d-a8aa-c37ac9ad16ea",
   "metadata": {},
   "outputs": [],
   "source": [
    "import os\n",
    "\n",
    "p = Pool(processes=cpu_count()-2)\n",
    "# NumPy Arrayをsaveするフォルダ\n",
    "save_base_path = 'save_time_test2/'\n",
    "# フォルダ作成\n",
    "if not os.path.exists(save_base_path):\n",
    "    os.makedirs(save_base_path)\n",
    "    \n",
    "def save_npy(path):\n",
    "    \n",
    "    #pngデータをopencvでロード\n",
    "    im = cv2.imread(path)\n",
    "    #pngのファイル名をそのまま.npyファイルのファイル名にする\n",
    "    file_name = path.split('/')[-1].split('.png')[0]\n",
    "    save_path = save_base_path + file_name\n",
    "    #全てのnpyファイルを同じフォルダに格納\n",
    "    np.save(save_path, im)"
   ]
  },
  {
   "cell_type": "code",
   "execution_count": 15,
   "id": "792f09ef-5f14-43e1-a199-a3973aac5606",
   "metadata": {},
   "outputs": [],
   "source": [
    "# path_list = glob('archive/gaussian_filtered_images/gaussian_filtered_images/*/*.png')\n",
    "# p.map(save_npy, path_list)\n",
    "\n",
    "# # 並列処理が終わったら閉じます\n",
    "# p.close()\n",
    "# p.join()"
   ]
  },
  {
   "cell_type": "code",
   "execution_count": null,
   "id": "f0e4d5ae-b986-4a54-b085-83f4dce88b55",
   "metadata": {},
   "outputs": [],
   "source": []
  }
 ],
 "metadata": {
  "kernelspec": {
   "display_name": "Python 3 (ipykernel)",
   "language": "python",
   "name": "python3"
  },
  "language_info": {
   "codemirror_mode": {
    "name": "ipython",
    "version": 3
   },
   "file_extension": ".py",
   "mimetype": "text/x-python",
   "name": "python",
   "nbconvert_exporter": "python",
   "pygments_lexer": "ipython3",
   "version": "3.9.7"
  }
 },
 "nbformat": 4,
 "nbformat_minor": 5
}
