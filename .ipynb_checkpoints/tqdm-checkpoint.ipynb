{
 "cells": [
  {
   "cell_type": "code",
   "execution_count": 1,
   "id": "1176fc23-b2b9-4d64-8536-22fb8af1cdca",
   "metadata": {},
   "outputs": [],
   "source": [
    "from tqdm import tqdm"
   ]
  },
  {
   "cell_type": "code",
   "execution_count": 2,
   "id": "303fef18-94b5-49ad-b26d-5aa78f6531ad",
   "metadata": {},
   "outputs": [
    {
     "name": "stdout",
     "output_type": "stream",
     "text": [
      "49999995000000\n"
     ]
    },
    {
     "data": {
      "text/plain": [
       "49999995000000"
      ]
     },
     "execution_count": 2,
     "metadata": {},
     "output_type": "execute_result"
    }
   ],
   "source": [
    "sum = 0\n",
    "for i in range(0, 10000000):\n",
    "    sum +=i\n",
    "print(sum)\n",
    "49999995000000"
   ]
  },
  {
   "cell_type": "code",
   "execution_count": 3,
   "id": "f56fc7bc-9fed-41fa-a00a-1a7ff0d9fade",
   "metadata": {},
   "outputs": [
    {
     "name": "stderr",
     "output_type": "stream",
     "text": [
      "100%|██████████| 10000000/10000000 [00:03<00:00, 2634131.91it/s]"
     ]
    },
    {
     "name": "stdout",
     "output_type": "stream",
     "text": [
      "49999995000000\n"
     ]
    },
    {
     "name": "stderr",
     "output_type": "stream",
     "text": [
      "\n"
     ]
    }
   ],
   "source": [
    "sum = 0\n",
    "for i in tqdm(range(0, 10000000)):\n",
    "    sum += i\n",
    "print(sum)"
   ]
  },
  {
   "cell_type": "code",
   "execution_count": 7,
   "id": "b4d5fec1-6b01-4d5a-9676-97847e33a631",
   "metadata": {},
   "outputs": [
    {
     "data": {
      "text/html": [
       "<div>\n",
       "<style scoped>\n",
       "    .dataframe tbody tr th:only-of-type {\n",
       "        vertical-align: middle;\n",
       "    }\n",
       "\n",
       "    .dataframe tbody tr th {\n",
       "        vertical-align: top;\n",
       "    }\n",
       "\n",
       "    .dataframe thead th {\n",
       "        text-align: right;\n",
       "    }\n",
       "</style>\n",
       "<table border=\"1\" class=\"dataframe\">\n",
       "  <thead>\n",
       "    <tr style=\"text-align: right;\">\n",
       "      <th></th>\n",
       "      <th>filepath</th>\n",
       "      <th>type</th>\n",
       "      <th>extension</th>\n",
       "    </tr>\n",
       "  </thead>\n",
       "  <tbody>\n",
       "    <tr>\n",
       "      <th>0</th>\n",
       "      <td>archive/gaussian_filtered_images/gaussian_filt...</td>\n",
       "      <td>Mild</td>\n",
       "      <td>png</td>\n",
       "    </tr>\n",
       "    <tr>\n",
       "      <th>1</th>\n",
       "      <td>archive/gaussian_filtered_images/gaussian_filt...</td>\n",
       "      <td>Mild</td>\n",
       "      <td>png</td>\n",
       "    </tr>\n",
       "    <tr>\n",
       "      <th>2</th>\n",
       "      <td>archive/gaussian_filtered_images/gaussian_filt...</td>\n",
       "      <td>Mild</td>\n",
       "      <td>png</td>\n",
       "    </tr>\n",
       "    <tr>\n",
       "      <th>3</th>\n",
       "      <td>archive/gaussian_filtered_images/gaussian_filt...</td>\n",
       "      <td>Mild</td>\n",
       "      <td>png</td>\n",
       "    </tr>\n",
       "    <tr>\n",
       "      <th>4</th>\n",
       "      <td>archive/gaussian_filtered_images/gaussian_filt...</td>\n",
       "      <td>Mild</td>\n",
       "      <td>png</td>\n",
       "    </tr>\n",
       "  </tbody>\n",
       "</table>\n",
       "</div>"
      ],
      "text/plain": [
       "                                            filepath  type extension\n",
       "0  archive/gaussian_filtered_images/gaussian_filt...  Mild       png\n",
       "1  archive/gaussian_filtered_images/gaussian_filt...  Mild       png\n",
       "2  archive/gaussian_filtered_images/gaussian_filt...  Mild       png\n",
       "3  archive/gaussian_filtered_images/gaussian_filt...  Mild       png\n",
       "4  archive/gaussian_filtered_images/gaussian_filt...  Mild       png"
      ]
     },
     "execution_count": 7,
     "metadata": {},
     "output_type": "execute_result"
    }
   ],
   "source": [
    "import numpy as np\n",
    "import pandas as pd\n",
    "from glob import glob\n",
    "\n",
    "all_ping_list = glob('archive/gaussian_filtered_images/gaussian_filtered_images/*/*.png')\n",
    "type_list = [p.split('/')[3] for p in all_ping_list]\n",
    "extension_list = [p.split('.')[-1] for p in all_ping_list]\n",
    "\n",
    "df = pd.DataFrame({'filepath':all_ping_list,'type':type_list, 'extension':extension_list})\n",
    "df.head()"
   ]
  },
  {
   "cell_type": "code",
   "execution_count": 8,
   "id": "75be33cf-e1c8-41cc-a3d2-ebc172e0d576",
   "metadata": {},
   "outputs": [
    {
     "name": "stderr",
     "output_type": "stream",
     "text": [
      "3662it [00:00, 15668.11it/s]\n"
     ]
    }
   ],
   "source": [
    "for idx, row in tqdm(df.iterrows()):\n",
    "    pass"
   ]
  },
  {
   "cell_type": "code",
   "execution_count": 9,
   "id": "65084398-86c7-41a5-8dd5-461fed54d28e",
   "metadata": {},
   "outputs": [
    {
     "name": "stderr",
     "output_type": "stream",
     "text": [
      "100%|██████████| 3662/3662 [00:00<00:00, 16218.13it/s]\n"
     ]
    }
   ],
   "source": [
    "for idx, row in tqdm(df.iterrows(), total=len(df)):\n",
    "    pass"
   ]
  },
  {
   "cell_type": "code",
   "execution_count": 10,
   "id": "a754ba80-2a10-4c63-b18c-0528f1511f23",
   "metadata": {},
   "outputs": [
    {
     "name": "stderr",
     "output_type": "stream",
     "text": [
      "100%|██████████| 3662/3662 [00:22<00:00, 164.93it/s]\n"
     ]
    }
   ],
   "source": [
    "import cv2\n",
    "\n",
    "save_base_path = 'gaussian_filtered_nparrays/'\n",
    "for p in tqdm(all_ping_list):\n",
    "    im = cv2.imread(p)\n",
    "    file_name = p.split('/')[-1]\n",
    "    save_path = save_base_path + file_name\n",
    "    np.save(save_path, im)"
   ]
  },
  {
   "cell_type": "code",
   "execution_count": null,
   "id": "5af57d4f-8301-4508-9bd3-d785d08ce6ac",
   "metadata": {},
   "outputs": [],
   "source": []
  }
 ],
 "metadata": {
  "kernelspec": {
   "display_name": "Python 3 (ipykernel)",
   "language": "python",
   "name": "python3"
  },
  "language_info": {
   "codemirror_mode": {
    "name": "ipython",
    "version": 3
   },
   "file_extension": ".py",
   "mimetype": "text/x-python",
   "name": "python",
   "nbconvert_exporter": "python",
   "pygments_lexer": "ipython3",
   "version": "3.9.7"
  }
 },
 "nbformat": 4,
 "nbformat_minor": 5
}
