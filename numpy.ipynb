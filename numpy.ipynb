{
 "cells": [
  {
   "cell_type": "code",
   "execution_count": 1,
   "id": "d503193d-cd11-4d30-9672-82d7cd877756",
   "metadata": {},
   "outputs": [],
   "source": [
    "import numpy as np"
   ]
  },
  {
   "cell_type": "code",
   "execution_count": 2,
   "id": "32813e52-78ef-48c7-85f8-4757fccb7b59",
   "metadata": {},
   "outputs": [
    {
     "data": {
      "text/plain": [
       "'/Users/sakuradariki/opt/anaconda3/lib/python3.9/site-packages/numpy/__init__.py'"
      ]
     },
     "execution_count": 2,
     "metadata": {},
     "output_type": "execute_result"
    }
   ],
   "source": [
    "np.__file__"
   ]
  },
  {
   "cell_type": "code",
   "execution_count": 3,
   "id": "675cbbe4-4869-4332-aad8-01168490ffd9",
   "metadata": {},
   "outputs": [],
   "source": [
    "array1 = np.array([[1,2,3],[4,5,6],[7,8,9]])\n",
    "array2 = np.array([[1,2,3],[4,5,6],[7,8,9]])"
   ]
  },
  {
   "cell_type": "code",
   "execution_count": 4,
   "id": "350292ab-3183-4de4-b7f0-223fb94989d2",
   "metadata": {},
   "outputs": [
    {
     "data": {
      "text/plain": [
       "array([[ 2,  4,  6],\n",
       "       [ 8, 10, 12],\n",
       "       [14, 16, 18]])"
      ]
     },
     "execution_count": 4,
     "metadata": {},
     "output_type": "execute_result"
    }
   ],
   "source": [
    "array1 + array2"
   ]
  },
  {
   "cell_type": "code",
   "execution_count": 5,
   "id": "19724676-c522-4bb5-a23d-6e43de7a5a54",
   "metadata": {},
   "outputs": [
    {
     "data": {
      "text/plain": [
       "array([[ 1,  4,  9],\n",
       "       [16, 25, 36],\n",
       "       [49, 64, 81]])"
      ]
     },
     "execution_count": 5,
     "metadata": {},
     "output_type": "execute_result"
    }
   ],
   "source": [
    "array1 * array2"
   ]
  },
  {
   "cell_type": "code",
   "execution_count": 7,
   "id": "9c4f2fc1-8c55-4a41-bc50-0d1c0115763a",
   "metadata": {},
   "outputs": [
    {
     "data": {
      "text/plain": [
       "(3, 3)"
      ]
     },
     "execution_count": 7,
     "metadata": {},
     "output_type": "execute_result"
    }
   ],
   "source": [
    "array1.shape"
   ]
  },
  {
   "cell_type": "code",
   "execution_count": 9,
   "id": "3975f6a5-8621-4bd3-9fc5-4db1bf43710e",
   "metadata": {},
   "outputs": [],
   "source": [
    "array = np.array([[1,2,3,4],[5,6,7,8],[9,10,11,12]])"
   ]
  },
  {
   "cell_type": "code",
   "execution_count": 10,
   "id": "3416cb85-2348-4374-a44c-01945ccfa870",
   "metadata": {},
   "outputs": [
    {
     "data": {
      "text/plain": [
       "array([[ 1,  2,  3,  4],\n",
       "       [ 5,  6,  7,  8],\n",
       "       [ 9, 10, 11, 12]])"
      ]
     },
     "execution_count": 10,
     "metadata": {},
     "output_type": "execute_result"
    }
   ],
   "source": [
    "array"
   ]
  },
  {
   "cell_type": "code",
   "execution_count": 11,
   "id": "f5e08806-347e-4c0c-8e01-21ef8278ec1f",
   "metadata": {},
   "outputs": [
    {
     "data": {
      "text/plain": [
       "array([[ 3,  4],\n",
       "       [ 7,  8],\n",
       "       [11, 12]])"
      ]
     },
     "execution_count": 11,
     "metadata": {},
     "output_type": "execute_result"
    }
   ],
   "source": [
    "array[:,2:]"
   ]
  },
  {
   "cell_type": "code",
   "execution_count": 12,
   "id": "fd187619-bbd7-4500-b9db-48700d3fa2f2",
   "metadata": {},
   "outputs": [
    {
     "name": "stdout",
     "output_type": "stream",
     "text": [
      "[100   1   2   3]\n",
      "[0 1 2 3]\n"
     ]
    }
   ],
   "source": [
    "def change_hundred(array):\n",
    "\n",
    "    array[0] = 100\n",
    "    return array\n",
    "\n",
    "def change_hundred_copy(array):\n",
    "    \n",
    "    array_copy = array.copy()\n",
    "    array_copy[0] = 100\n",
    "    return array_copy\n",
    "\n",
    "array_1 = np.arange(0, 4)\n",
    "array_2 = np.arange(0, 4)\n",
    "\n",
    "output_array = change_hundred(array_1)\n",
    "output_array_copy = change_hundred_copy(array_2)\n",
    "\n",
    "print(array_1)\n",
    "print(array_2)"
   ]
  },
  {
   "cell_type": "code",
   "execution_count": 13,
   "id": "0810268b-76a2-4d4d-8d97-e73d76ab56ad",
   "metadata": {},
   "outputs": [
    {
     "data": {
      "text/plain": [
       "array([[ 1.47635793, -0.2143973 , -0.3222656 , -2.68016441,  0.40572892],\n",
       "       [-0.72768587, -0.14087916,  0.13743181, -0.4629916 ,  0.5377426 ],\n",
       "       [ 0.6564603 , -0.41051853,  0.2964021 , -0.52149663, -1.27210489],\n",
       "       [ 0.24930599,  0.68894289, -0.26689994,  0.76356862,  0.72946643],\n",
       "       [ 0.43971029,  0.11712558,  0.75046027, -0.56256312, -0.09766969]])"
      ]
     },
     "execution_count": 13,
     "metadata": {},
     "output_type": "execute_result"
    }
   ],
   "source": [
    "array_o = np.random.randn(5,5)\n",
    "array_o"
   ]
  },
  {
   "cell_type": "code",
   "execution_count": 21,
   "id": "3c8d31e8-10f4-416a-aea2-46e3421f3fcb",
   "metadata": {},
   "outputs": [
    {
     "data": {
      "text/plain": [
       "1.4763579345147155"
      ]
     },
     "execution_count": 21,
     "metadata": {},
     "output_type": "execute_result"
    }
   ],
   "source": [
    "array_o.max()"
   ]
  },
  {
   "cell_type": "code",
   "execution_count": 15,
   "id": "e7e713ce-785e-4544-8427-2bde73a29c71",
   "metadata": {},
   "outputs": [
    {
     "data": {
      "text/plain": [
       "0"
      ]
     },
     "execution_count": 15,
     "metadata": {},
     "output_type": "execute_result"
    }
   ],
   "source": [
    "array_o.argmax()"
   ]
  },
  {
   "cell_type": "code",
   "execution_count": 16,
   "id": "a875925b-5f85-4c20-b5d2-1d9a0f1f42ea",
   "metadata": {},
   "outputs": [
    {
     "data": {
      "text/plain": [
       "-2.680164405397871"
      ]
     },
     "execution_count": 16,
     "metadata": {},
     "output_type": "execute_result"
    }
   ],
   "source": [
    "array_o.min()"
   ]
  },
  {
   "cell_type": "code",
   "execution_count": 17,
   "id": "f5683f8c-0ee3-43be-8808-0d3503f5db16",
   "metadata": {},
   "outputs": [
    {
     "data": {
      "text/plain": [
       "3"
      ]
     },
     "execution_count": 17,
     "metadata": {},
     "output_type": "execute_result"
    }
   ],
   "source": [
    "array_o.argmin()"
   ]
  },
  {
   "cell_type": "code",
   "execution_count": 18,
   "id": "8135be5b-081b-4b07-bb11-a557706ded66",
   "metadata": {},
   "outputs": [
    {
     "data": {
      "text/plain": [
       "-0.01723732002927644"
      ]
     },
     "execution_count": 18,
     "metadata": {},
     "output_type": "execute_result"
    }
   ],
   "source": [
    "array_o.mean()"
   ]
  },
  {
   "cell_type": "code",
   "execution_count": 19,
   "id": "e23334d0-381c-496c-b02e-992d2b4841f4",
   "metadata": {},
   "outputs": [
    {
     "data": {
      "text/plain": [
       "0.11712558182018772"
      ]
     },
     "execution_count": 19,
     "metadata": {},
     "output_type": "execute_result"
    }
   ],
   "source": [
    "np.median(array_o)"
   ]
  },
  {
   "cell_type": "code",
   "execution_count": 20,
   "id": "037167a9-11bd-46e4-b944-d5a13717143c",
   "metadata": {},
   "outputs": [
    {
     "data": {
      "text/plain": [
       "0.8034600791376463"
      ]
     },
     "execution_count": 20,
     "metadata": {},
     "output_type": "execute_result"
    }
   ],
   "source": [
    "array_o.std()"
   ]
  },
  {
   "cell_type": "code",
   "execution_count": null,
   "id": "1fc2cc2f-674d-4a3d-a71c-4100a5502fb2",
   "metadata": {},
   "outputs": [],
   "source": []
  }
 ],
 "metadata": {
  "kernelspec": {
   "display_name": "Python 3 (ipykernel)",
   "language": "python",
   "name": "python3"
  },
  "language_info": {
   "codemirror_mode": {
    "name": "ipython",
    "version": 3
   },
   "file_extension": ".py",
   "mimetype": "text/x-python",
   "name": "python",
   "nbconvert_exporter": "python",
   "pygments_lexer": "ipython3",
   "version": "3.9.7"
  }
 },
 "nbformat": 4,
 "nbformat_minor": 5
}
